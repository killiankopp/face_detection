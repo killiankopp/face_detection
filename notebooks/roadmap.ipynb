{
 "cells": [
  {
   "metadata": {},
   "cell_type": "markdown",
   "source": "# Roadmap",
   "id": "d61e30152b707211"
  },
  {
   "metadata": {},
   "cell_type": "markdown",
   "source": [
    "## Détection d'entrée de zone\n",
    "**Outils**\n",
    "- caméra IP outdoor\n",
    "- compute (raspberry PI)\n",
    "- internet\n",
    "- object storage\n",
    "- service de messagerie\n",
    "\n",
    "**User story**\n",
    "Une zone délimitée est surveillée. Soit toute la portion entre le garage et le portail, soit une zone plus restreinte dans laquelle on doit placer son visage (en bas de la pente par exemple)\n",
    "Si un mouvement est détecté dans la zone :\n",
    "- enregistrement d'une courte vidéo\n",
    "- transfert vers de l'object storage\n",
    "- déclenchement d'un message vers le traitement\n",
    "- temporisation le temps de recevoir une réponse\n",
    "\n",
    "Un voyant donne un retour d'information à l'utilisateur :\n",
    "- vert fixe : le système est armé et fonctionnel\n",
    "- rouge fixe : le système n'est pas armé, il y a un problème\n",
    "- orange fixe : une détection est en cours\n",
    "- orange clignotant : une détection est en traitement\n",
    "- vert clignotant : accès accordé\n",
    "- rouge clignotant : accès refusé"
   ],
   "id": "c5d8c14d2c3de9aa"
  },
  {
   "metadata": {},
   "cell_type": "markdown",
   "source": [
    "## Event manager\n",
    "**Outils**\n",
    "- serveur NoSQL\n",
    "\n",
    "**User story**\n",
    "- créer un UUID\n",
    "- stocker les données"
   ],
   "id": "5153314b8712d317"
  },
  {
   "metadata": {},
   "cell_type": "markdown",
   "source": [
    "## Traitement d'un évènement\n",
    "**Outils**\n",
    "- compute\n",
    "- serveur NoSQL\n",
    "- internet\n",
    "- object storage\n",
    "- service de messagerie\n",
    "\n",
    "**User story**\n",
    "- historisation de l'évènement sur le serveur NoSQL\n",
    "- contrôle Liveness (sur tous les individus)\n",
    "- si OK, extraction de 10 images\n",
    "- face encoding des 10 images\n",
    "- comparaison\n",
    "- réponse\n",
    "\n",
    "**Test**\n",
    "- nb visage = nb personne\n"
   ],
   "id": "3dbe020037edd7a8"
  },
  {
   "metadata": {},
   "cell_type": "markdown",
   "source": [
    "## Contrôle Liveness\n",
    "**Outils**\n",
    "-  compute\n",
    "- object storage\n"
   ],
   "id": "64e296de70893e81"
  },
  {
   "metadata": {},
   "cell_type": "markdown",
   "source": [
    "## Face encoding\n",
    "**Outils**\n",
    "- compute\n",
    "- object storage\n",
    "- service de messagerie"
   ],
   "id": "cf40cda81cb054a7"
  },
  {
   "metadata": {},
   "cell_type": "markdown",
   "source": [
    "## Face compare\n",
    "**Tools**\n",
    "- compute\n",
    "- serveur NoSQL\n",
    "\n",
    "**User story**\n",
    "- compare des face encodings avec ceux connus\n",
    "- recherche dans une base de données pour les visages connus\n",
    "- affichage des visages connus\n",
    "- gestion des images liées"
   ],
   "id": "47b17f4180b46857"
  },
  {
   "metadata": {},
   "cell_type": "markdown",
   "source": [
    "## Service de nettoyage\n",
    "**Outils**\n",
    "- N8N\n",
    "- serveur NoSQL\n",
    "- object storage\n",
    "\n",
    "**User story**\n",
    "- supprimer les évènements de plus de X jours (non ouverture) en base de données (sauf flag conserver)\n",
    "- supprimer les objets stockés associés (sauf flag conserver)"
   ],
   "id": "8565a4290dfe0611"
  }
 ],
 "metadata": {
  "kernelspec": {
   "display_name": "Python 3",
   "language": "python",
   "name": "python3"
  },
  "language_info": {
   "codemirror_mode": {
    "name": "ipython",
    "version": 2
   },
   "file_extension": ".py",
   "mimetype": "text/x-python",
   "name": "python",
   "nbconvert_exporter": "python",
   "pygments_lexer": "ipython2",
   "version": "2.7.6"
  }
 },
 "nbformat": 4,
 "nbformat_minor": 5
}
