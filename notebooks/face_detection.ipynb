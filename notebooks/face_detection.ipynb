{
 "cells": [
  {
   "cell_type": "code",
   "id": "be77ca2f5a7df11b",
   "metadata": {
    "collapsed": true,
    "ExecuteTime": {
     "end_time": "2024-12-07T23:37:01.439696Z",
     "start_time": "2024-12-07T23:37:01.334621Z"
    }
   },
   "source": [
    "import cv2\n",
    "import numpy as np"
   ],
   "outputs": [],
   "execution_count": 1
  },
  {
   "metadata": {
    "ExecuteTime": {
     "end_time": "2024-12-07T23:37:04.306682Z",
     "start_time": "2024-12-07T23:37:04.249324Z"
    }
   },
   "cell_type": "code",
   "source": [
    "face_cascade = cv2.CascadeClassifier(cv2.data.haarcascades + 'haarcascade_frontalface_default.xml')\n",
    "image = cv2.imread('../artefacts/incoming/killian_aurelie.png')\n",
    "gray = cv2.cvtColor(image, cv2.COLOR_BGR2GRAY)"
   ],
   "id": "bb8cd641f56498c9",
   "outputs": [],
   "execution_count": 3
  },
  {
   "metadata": {
    "ExecuteTime": {
     "end_time": "2024-12-07T23:37:25.988641Z",
     "start_time": "2024-12-07T23:37:25.874077Z"
    }
   },
   "cell_type": "code",
   "source": [
    "faces = face_cascade.detectMultiScale(gray, 1.1, 4)\n",
    "for (x, y, w, h) in faces:\n",
    "    cv2.rectangle(image, (x, y), (x + w, y + h), (255, 0, 0), 2)"
   ],
   "id": "c0e7bd440ab0d32d",
   "outputs": [],
   "execution_count": 5
  },
  {
   "metadata": {
    "ExecuteTime": {
     "end_time": "2024-12-07T23:37:35.499697Z",
     "start_time": "2024-12-07T23:37:28.205349Z"
    }
   },
   "cell_type": "code",
   "source": [
    "cv2.imshow('Détection de Visages', image)\n",
    "cv2.waitKey(0)"
   ],
   "id": "initial_id",
   "outputs": [
    {
     "data": {
      "text/plain": [
       "32"
      ]
     },
     "execution_count": 6,
     "metadata": {},
     "output_type": "execute_result"
    }
   ],
   "execution_count": 6
  }
 ],
 "metadata": {
  "kernelspec": {
   "display_name": "Python 3",
   "language": "python",
   "name": "python3"
  },
  "language_info": {
   "codemirror_mode": {
    "name": "ipython",
    "version": 2
   },
   "file_extension": ".py",
   "mimetype": "text/x-python",
   "name": "python",
   "nbconvert_exporter": "python",
   "pygments_lexer": "ipython2",
   "version": "2.7.6"
  }
 },
 "nbformat": 4,
 "nbformat_minor": 5
}
